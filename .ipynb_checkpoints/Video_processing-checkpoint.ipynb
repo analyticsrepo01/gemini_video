{
 "cells": [
  {
   "cell_type": "code",
   "execution_count": 2,
   "id": "6ef33bb8-9658-4491-a7e5-4620c493356f",
   "metadata": {
    "tags": []
   },
   "outputs": [],
   "source": [
    "#git@github.com:analyticsrepo01/gemini_video.git"
   ]
  },
  {
   "cell_type": "code",
   "execution_count": 12,
   "id": "1f7740eb-a4d2-4be8-bf25-5fdf51ca1998",
   "metadata": {
    "scrolled": true,
    "tags": []
   },
   "outputs": [
    {
     "name": "stdout",
     "output_type": "stream",
     "text": [
      "Collecting google-cloud-videointelligence\n",
      "  Downloading google_cloud_videointelligence-2.13.3-py2.py3-none-any.whl.metadata (5.7 kB)\n",
      "Requirement already satisfied: google-api-core!=2.0.*,!=2.1.*,!=2.10.*,!=2.2.*,!=2.3.*,!=2.4.*,!=2.5.*,!=2.6.*,!=2.7.*,!=2.8.*,!=2.9.*,<3.0.0dev,>=1.34.1 in /opt/conda/lib/python3.10/site-packages (from google-api-core[grpc]!=2.0.*,!=2.1.*,!=2.10.*,!=2.2.*,!=2.3.*,!=2.4.*,!=2.5.*,!=2.6.*,!=2.7.*,!=2.8.*,!=2.9.*,<3.0.0dev,>=1.34.1->google-cloud-videointelligence) (2.17.1)\n",
      "Requirement already satisfied: google-auth!=2.24.0,!=2.25.0,<3.0.0dev,>=2.14.1 in /opt/conda/lib/python3.10/site-packages (from google-cloud-videointelligence) (2.28.2)\n",
      "Requirement already satisfied: proto-plus<2.0.0dev,>=1.22.3 in /opt/conda/lib/python3.10/site-packages (from google-cloud-videointelligence) (1.23.0)\n",
      "Requirement already satisfied: protobuf!=3.20.0,!=3.20.1,!=4.21.0,!=4.21.1,!=4.21.2,!=4.21.3,!=4.21.4,!=4.21.5,<5.0.0dev,>=3.19.5 in /opt/conda/lib/python3.10/site-packages (from google-cloud-videointelligence) (4.25.3)\n",
      "Requirement already satisfied: googleapis-common-protos<2.0.dev0,>=1.56.2 in /opt/conda/lib/python3.10/site-packages (from google-api-core!=2.0.*,!=2.1.*,!=2.10.*,!=2.2.*,!=2.3.*,!=2.4.*,!=2.5.*,!=2.6.*,!=2.7.*,!=2.8.*,!=2.9.*,<3.0.0dev,>=1.34.1->google-api-core[grpc]!=2.0.*,!=2.1.*,!=2.10.*,!=2.2.*,!=2.3.*,!=2.4.*,!=2.5.*,!=2.6.*,!=2.7.*,!=2.8.*,!=2.9.*,<3.0.0dev,>=1.34.1->google-cloud-videointelligence) (1.63.0)\n",
      "Requirement already satisfied: requests<3.0.0.dev0,>=2.18.0 in /opt/conda/lib/python3.10/site-packages (from google-api-core!=2.0.*,!=2.1.*,!=2.10.*,!=2.2.*,!=2.3.*,!=2.4.*,!=2.5.*,!=2.6.*,!=2.7.*,!=2.8.*,!=2.9.*,<3.0.0dev,>=1.34.1->google-api-core[grpc]!=2.0.*,!=2.1.*,!=2.10.*,!=2.2.*,!=2.3.*,!=2.4.*,!=2.5.*,!=2.6.*,!=2.7.*,!=2.8.*,!=2.9.*,<3.0.0dev,>=1.34.1->google-cloud-videointelligence) (2.31.0)\n",
      "Requirement already satisfied: grpcio<2.0dev,>=1.33.2 in /opt/conda/lib/python3.10/site-packages (from google-api-core[grpc]!=2.0.*,!=2.1.*,!=2.10.*,!=2.2.*,!=2.3.*,!=2.4.*,!=2.5.*,!=2.6.*,!=2.7.*,!=2.8.*,!=2.9.*,<3.0.0dev,>=1.34.1->google-cloud-videointelligence) (1.62.1)\n",
      "Requirement already satisfied: grpcio-status<2.0.dev0,>=1.33.2 in /opt/conda/lib/python3.10/site-packages (from google-api-core[grpc]!=2.0.*,!=2.1.*,!=2.10.*,!=2.2.*,!=2.3.*,!=2.4.*,!=2.5.*,!=2.6.*,!=2.7.*,!=2.8.*,!=2.9.*,<3.0.0dev,>=1.34.1->google-cloud-videointelligence) (1.62.1)\n",
      "Requirement already satisfied: cachetools<6.0,>=2.0.0 in /opt/conda/lib/python3.10/site-packages (from google-auth!=2.24.0,!=2.25.0,<3.0.0dev,>=2.14.1->google-cloud-videointelligence) (5.3.3)\n",
      "Requirement already satisfied: pyasn1-modules>=0.2.1 in /opt/conda/lib/python3.10/site-packages (from google-auth!=2.24.0,!=2.25.0,<3.0.0dev,>=2.14.1->google-cloud-videointelligence) (0.3.0)\n",
      "Requirement already satisfied: rsa<5,>=3.1.4 in /opt/conda/lib/python3.10/site-packages (from google-auth!=2.24.0,!=2.25.0,<3.0.0dev,>=2.14.1->google-cloud-videointelligence) (4.9)\n",
      "Requirement already satisfied: pyasn1<0.6.0,>=0.4.6 in /opt/conda/lib/python3.10/site-packages (from pyasn1-modules>=0.2.1->google-auth!=2.24.0,!=2.25.0,<3.0.0dev,>=2.14.1->google-cloud-videointelligence) (0.5.1)\n",
      "Requirement already satisfied: charset-normalizer<4,>=2 in /opt/conda/lib/python3.10/site-packages (from requests<3.0.0.dev0,>=2.18.0->google-api-core!=2.0.*,!=2.1.*,!=2.10.*,!=2.2.*,!=2.3.*,!=2.4.*,!=2.5.*,!=2.6.*,!=2.7.*,!=2.8.*,!=2.9.*,<3.0.0dev,>=1.34.1->google-api-core[grpc]!=2.0.*,!=2.1.*,!=2.10.*,!=2.2.*,!=2.3.*,!=2.4.*,!=2.5.*,!=2.6.*,!=2.7.*,!=2.8.*,!=2.9.*,<3.0.0dev,>=1.34.1->google-cloud-videointelligence) (3.3.2)\n",
      "Requirement already satisfied: idna<4,>=2.5 in /opt/conda/lib/python3.10/site-packages (from requests<3.0.0.dev0,>=2.18.0->google-api-core!=2.0.*,!=2.1.*,!=2.10.*,!=2.2.*,!=2.3.*,!=2.4.*,!=2.5.*,!=2.6.*,!=2.7.*,!=2.8.*,!=2.9.*,<3.0.0dev,>=1.34.1->google-api-core[grpc]!=2.0.*,!=2.1.*,!=2.10.*,!=2.2.*,!=2.3.*,!=2.4.*,!=2.5.*,!=2.6.*,!=2.7.*,!=2.8.*,!=2.9.*,<3.0.0dev,>=1.34.1->google-cloud-videointelligence) (3.6)\n",
      "Requirement already satisfied: urllib3<3,>=1.21.1 in /opt/conda/lib/python3.10/site-packages (from requests<3.0.0.dev0,>=2.18.0->google-api-core!=2.0.*,!=2.1.*,!=2.10.*,!=2.2.*,!=2.3.*,!=2.4.*,!=2.5.*,!=2.6.*,!=2.7.*,!=2.8.*,!=2.9.*,<3.0.0dev,>=1.34.1->google-api-core[grpc]!=2.0.*,!=2.1.*,!=2.10.*,!=2.2.*,!=2.3.*,!=2.4.*,!=2.5.*,!=2.6.*,!=2.7.*,!=2.8.*,!=2.9.*,<3.0.0dev,>=1.34.1->google-cloud-videointelligence) (2.2.1)\n",
      "Requirement already satisfied: certifi>=2017.4.17 in /opt/conda/lib/python3.10/site-packages (from requests<3.0.0.dev0,>=2.18.0->google-api-core!=2.0.*,!=2.1.*,!=2.10.*,!=2.2.*,!=2.3.*,!=2.4.*,!=2.5.*,!=2.6.*,!=2.7.*,!=2.8.*,!=2.9.*,<3.0.0dev,>=1.34.1->google-api-core[grpc]!=2.0.*,!=2.1.*,!=2.10.*,!=2.2.*,!=2.3.*,!=2.4.*,!=2.5.*,!=2.6.*,!=2.7.*,!=2.8.*,!=2.9.*,<3.0.0dev,>=1.34.1->google-cloud-videointelligence) (2024.2.2)\n",
      "Downloading google_cloud_videointelligence-2.13.3-py2.py3-none-any.whl (240 kB)\n",
      "\u001b[2K   \u001b[90m━━━━━━━━━━━━━━━━━━━━━━━━━━━━━━━━━━━━━━━━\u001b[0m \u001b[32m240.4/240.4 kB\u001b[0m \u001b[31m1.7 MB/s\u001b[0m eta \u001b[36m0:00:00\u001b[0m00:01\u001b[0m0:01\u001b[0m\n",
      "\u001b[?25h\u001b[33mWARNING: Error parsing requirements for jinja2: [Errno 2] No such file or directory: '/opt/conda/lib/python3.10/site-packages/Jinja2-3.1.2.dist-info/METADATA'\u001b[0m\u001b[33m\n",
      "\u001b[0m\u001b[33mWARNING: Error parsing requirements for google-cloud-aiplatform: [Errno 2] No such file or directory: '/opt/conda/lib/python3.10/site-packages/google_cloud_aiplatform-1.42.1.dist-info/METADATA'\u001b[0m\u001b[33m\n",
      "\u001b[0m\u001b[33mWARNING: Error parsing requirements for nest-asyncio: [Errno 2] No such file or directory: '/opt/conda/lib/python3.10/site-packages/nest_asyncio-1.5.8.dist-info/METADATA'\u001b[0m\u001b[33m\n",
      "\u001b[0m\u001b[33mWARNING: Error parsing requirements for python-dateutil: [Errno 2] No such file or directory: '/opt/conda/lib/python3.10/site-packages/python_dateutil-2.8.2.dist-info/METADATA'\u001b[0m\u001b[33m\n",
      "\u001b[0mInstalling collected packages: google-cloud-videointelligence\n",
      "Successfully installed google-cloud-videointelligence-2.13.3\n",
      "Collecting pytube\n",
      "  Using cached pytube-15.0.0-py3-none-any.whl.metadata (5.0 kB)\n",
      "Using cached pytube-15.0.0-py3-none-any.whl (57 kB)\n",
      "\u001b[33mWARNING: Error parsing requirements for jinja2: [Errno 2] No such file or directory: '/opt/conda/lib/python3.10/site-packages/Jinja2-3.1.2.dist-info/METADATA'\u001b[0m\u001b[33m\n",
      "\u001b[0m\u001b[33mWARNING: Error parsing requirements for google-cloud-aiplatform: [Errno 2] No such file or directory: '/opt/conda/lib/python3.10/site-packages/google_cloud_aiplatform-1.42.1.dist-info/METADATA'\u001b[0m\u001b[33m\n",
      "\u001b[0m\u001b[33mWARNING: Error parsing requirements for nest-asyncio: [Errno 2] No such file or directory: '/opt/conda/lib/python3.10/site-packages/nest_asyncio-1.5.8.dist-info/METADATA'\u001b[0m\u001b[33m\n",
      "\u001b[0m\u001b[33mWARNING: Error parsing requirements for python-dateutil: [Errno 2] No such file or directory: '/opt/conda/lib/python3.10/site-packages/python_dateutil-2.8.2.dist-info/METADATA'\u001b[0m\u001b[33m\n",
      "\u001b[0mInstalling collected packages: pytube\n",
      "Successfully installed pytube-15.0.0\n",
      "Requirement already satisfied: unidecode in /opt/conda/lib/python3.10/site-packages (1.3.7)\n",
      "\u001b[33mWARNING: Error parsing requirements for jinja2: [Errno 2] No such file or directory: '/opt/conda/lib/python3.10/site-packages/Jinja2-3.1.2.dist-info/METADATA'\u001b[0m\u001b[33m\n",
      "\u001b[0m\u001b[33mWARNING: Error parsing requirements for google-cloud-aiplatform: [Errno 2] No such file or directory: '/opt/conda/lib/python3.10/site-packages/google_cloud_aiplatform-1.42.1.dist-info/METADATA'\u001b[0m\u001b[33m\n",
      "\u001b[0m\u001b[33mWARNING: Error parsing requirements for nest-asyncio: [Errno 2] No such file or directory: '/opt/conda/lib/python3.10/site-packages/nest_asyncio-1.5.8.dist-info/METADATA'\u001b[0m\u001b[33m\n",
      "\u001b[0m\u001b[33mWARNING: Error parsing requirements for python-dateutil: [Errno 2] No such file or directory: '/opt/conda/lib/python3.10/site-packages/python_dateutil-2.8.2.dist-info/METADATA'\u001b[0m\u001b[33m\n",
      "\u001b[0mCollecting varname\n",
      "  Downloading varname-0.13.0-py3-none-any.whl.metadata (12 kB)\n",
      "Requirement already satisfied: executing<3.0,>=2.0 in /opt/conda/lib/python3.10/site-packages (from varname) (2.0.1)\n",
      "Downloading varname-0.13.0-py3-none-any.whl (24 kB)\n",
      "\u001b[33mWARNING: Error parsing requirements for jinja2: [Errno 2] No such file or directory: '/opt/conda/lib/python3.10/site-packages/Jinja2-3.1.2.dist-info/METADATA'\u001b[0m\u001b[33m\n",
      "\u001b[0m\u001b[33mWARNING: Error parsing requirements for google-cloud-aiplatform: [Errno 2] No such file or directory: '/opt/conda/lib/python3.10/site-packages/google_cloud_aiplatform-1.42.1.dist-info/METADATA'\u001b[0m\u001b[33m\n",
      "\u001b[0m\u001b[33mWARNING: Error parsing requirements for nest-asyncio: [Errno 2] No such file or directory: '/opt/conda/lib/python3.10/site-packages/nest_asyncio-1.5.8.dist-info/METADATA'\u001b[0m\u001b[33m\n",
      "\u001b[0m\u001b[33mWARNING: Error parsing requirements for python-dateutil: [Errno 2] No such file or directory: '/opt/conda/lib/python3.10/site-packages/python_dateutil-2.8.2.dist-info/METADATA'\u001b[0m\u001b[33m\n",
      "\u001b[0mInstalling collected packages: varname\n",
      "Successfully installed varname-0.13.0\n"
     ]
    }
   ],
   "source": [
    "!pip install google-cloud-videointelligence\n",
    "!pip install pytube\n",
    "!pip install unidecode\n",
    "!pip install varname"
   ]
  },
  {
   "cell_type": "code",
   "execution_count": 23,
   "id": "b80345b0-13a6-4a99-b0b3-e8ff927579a5",
   "metadata": {
    "scrolled": true,
    "tags": []
   },
   "outputs": [
    {
     "name": "stdout",
     "output_type": "stream",
     "text": [
      "Collecting seaborn\n",
      "  Downloading seaborn-0.13.2-py3-none-any.whl.metadata (5.4 kB)\n",
      "Requirement already satisfied: numpy!=1.24.0,>=1.20 in /opt/conda/envs/r/lib/python3.12/site-packages (from seaborn) (1.26.4)\n",
      "Requirement already satisfied: pandas>=1.2 in /home/jupyter/.local/lib/python3.12/site-packages (from seaborn) (2.2.1)\n",
      "Requirement already satisfied: matplotlib!=3.6.1,>=3.4 in /opt/conda/envs/r/lib/python3.12/site-packages (from seaborn) (3.8.3)\n",
      "Requirement already satisfied: contourpy>=1.0.1 in /opt/conda/envs/r/lib/python3.12/site-packages (from matplotlib!=3.6.1,>=3.4->seaborn) (1.2.0)\n",
      "Requirement already satisfied: cycler>=0.10 in /opt/conda/envs/r/lib/python3.12/site-packages (from matplotlib!=3.6.1,>=3.4->seaborn) (0.12.1)\n",
      "Requirement already satisfied: fonttools>=4.22.0 in /opt/conda/envs/r/lib/python3.12/site-packages (from matplotlib!=3.6.1,>=3.4->seaborn) (4.49.0)\n",
      "Requirement already satisfied: kiwisolver>=1.3.1 in /opt/conda/envs/r/lib/python3.12/site-packages (from matplotlib!=3.6.1,>=3.4->seaborn) (1.4.5)\n",
      "Requirement already satisfied: packaging>=20.0 in /opt/conda/envs/r/lib/python3.12/site-packages (from matplotlib!=3.6.1,>=3.4->seaborn) (23.2)\n",
      "Requirement already satisfied: pillow>=8 in /opt/conda/envs/r/lib/python3.12/site-packages (from matplotlib!=3.6.1,>=3.4->seaborn) (10.2.0)\n",
      "Requirement already satisfied: pyparsing>=2.3.1 in /opt/conda/envs/r/lib/python3.12/site-packages (from matplotlib!=3.6.1,>=3.4->seaborn) (3.1.1)\n",
      "Requirement already satisfied: python-dateutil>=2.7 in /opt/conda/envs/r/lib/python3.12/site-packages (from matplotlib!=3.6.1,>=3.4->seaborn) (2.8.2)\n",
      "Requirement already satisfied: pytz>=2020.1 in /opt/conda/envs/r/lib/python3.12/site-packages (from pandas>=1.2->seaborn) (2024.1)\n",
      "Requirement already satisfied: tzdata>=2022.7 in /opt/conda/envs/r/lib/python3.12/site-packages (from pandas>=1.2->seaborn) (2024.1)\n",
      "Requirement already satisfied: six>=1.5 in /opt/conda/envs/r/lib/python3.12/site-packages (from python-dateutil>=2.7->matplotlib!=3.6.1,>=3.4->seaborn) (1.16.0)\n",
      "Downloading seaborn-0.13.2-py3-none-any.whl (294 kB)\n",
      "\u001b[2K   \u001b[90m━━━━━━━━━━━━━━━━━━━━━━━━━━━━━━━━━━━━━━━━\u001b[0m \u001b[32m294.9/294.9 kB\u001b[0m \u001b[31m2.3 MB/s\u001b[0m eta \u001b[36m0:00:00\u001b[0ma \u001b[36m0:00:01\u001b[0m\n",
      "\u001b[?25hInstalling collected packages: seaborn\n",
      "Successfully installed seaborn-0.13.2\n",
      "Note: you may need to restart the kernel to use updated packages.\n"
     ]
    }
   ],
   "source": [
    "# %pip install google-cloud-videointelligence\n",
    "# %pip install unidecode\n",
    "# %pip install varname\n",
    "%pip install seaborn"
   ]
  },
  {
   "cell_type": "code",
   "execution_count": 24,
   "id": "6a638a04-431a-4402-9d84-7ce05c7d1079",
   "metadata": {
    "tags": []
   },
   "outputs": [],
   "source": [
    "\"\"\"Transcribe speech from a video stored on GCS.\"\"\"\n",
    "from google.cloud import videointelligence\n",
    "from pytube import YouTube\n",
    "# Install pytube if not already installed\n",
    "from pytube import YouTube\n",
    "from google.cloud import storage\n",
    "import vertexai\n",
    "import json\n",
    "import unidecode\n",
    "from varname import nameof\n",
    "\n",
    "import pandas as pd\n",
    "import seaborn as sns\n",
    "from IPython.display import Markdown, display\n",
    "from sklearn.metrics.pairwise import cosine_similarity\n",
    "from vertexai.preview.language_models import (ChatModel, InputOutputTextPair,\n",
    "                                              TextEmbeddingModel,\n",
    "                                              TextGenerationModel)\n",
    "from vertexai.generative_models import GenerativeModel\n",
    "\n",
    "import base64\n",
    "import vertexai\n",
    "from vertexai.generative_models import GenerativeModel, Part, FinishReason"
   ]
  },
  {
   "cell_type": "markdown",
   "id": "86d60a4b-1ad1-4e81-a398-d42e856bacd6",
   "metadata": {},
   "source": [
    "### Setup"
   ]
  },
  {
   "cell_type": "code",
   "execution_count": 25,
   "id": "b284bae9-b167-4602-ae18-e3a13df6d154",
   "metadata": {
    "tags": []
   },
   "outputs": [],
   "source": [
    "import re\n",
    "\n",
    "PROJECT_ID = !(gcloud config get-value core/project)\n",
    "PROJECT_ID = PROJECT_ID[0]\n",
    "\n",
    "SVC_ACC = !(gcloud config get-value core/account)\n",
    "SVC_ACC = SVC_ACC[0]\n",
    "\n",
    "PROJECT_NUMBER=str(re.search(r'\\d+', SVC_ACC).group())\n",
    "\n",
    "LOCATION=\"asia-southeast1\"\n",
    "\n",
    "FOLDER_NAME=\".\""
   ]
  },
  {
   "cell_type": "code",
   "execution_count": 26,
   "id": "ebda3784-a251-4863-b7e3-07ca87b81406",
   "metadata": {
    "tags": []
   },
   "outputs": [],
   "source": [
    "import vertexai\n",
    "from vertexai.preview.generative_models import GenerativeModel, Part\n",
    "\n",
    "from crewai import Agent, Task, Crew, Process\n",
    "from crewai_tools import tool\n",
    "# from langchain_vertexai import ChatGemini\n",
    "from crewai_tools.tools import FileReadTool\n",
    "import os, requests, re, mdpdf, subprocess\n",
    "from vertexai.preview.vision_models import ImageGenerationModel\n",
    "from langchain_google_vertexai import ChatVertexAI\n",
    "import uuid, os\n",
    "\n",
    "# Initialize Gemini LLM\n",
    "llm = ChatVertexAI(\n",
    "    # model_name=\"gemini-pro\", # Replace with your desired Gemini model\n",
    "    # model = GenerativeModel(\"gemini-pro\")\n",
    "    # model = GenerativeModel(\"gemini-1.5-pro-preview-0215\")\n",
    "    model = \"gemini-1.5-pro-preview-0409\",\n",
    "    project_id=os.getenv(PROJECT_ID), # Your Vertex AI project ID\n",
    "    location=\"us-central1\", # Your Vertex AI location\n",
    ")\n",
    "\n",
    "\n",
    "def generate_pro(input_prompt):\n",
    "    model = GenerativeModel(\"gemini-1.5-pro-preview-0409\")\n",
    "    full_prompt = '''summarize the prompt below and do note prompt below will be send to imagen mode so please clean up any sensitve words and replace them into unblocked words like replace girl or lady can be replaced by female human and so on : ''' + input_prompt\n",
    "    responses = model.generate_content(\n",
    "    input_prompt,\n",
    "    generation_config={\n",
    "        \"max_output_tokens\": 8190,\n",
    "        \"temperature\": 0.2,\n",
    "        \"top_p\": 1\n",
    "    },stream=False,)\n",
    "    \n",
    "    # print (responses.text)\n",
    "    \n",
    "    return(responses.text)\n",
    "\n"
   ]
  },
  {
   "cell_type": "code",
   "execution_count": 42,
   "id": "3dc2c107-b8e1-4704-8ab0-e35e4ad8bf3b",
   "metadata": {
    "tags": []
   },
   "outputs": [],
   "source": [
    "def generate(input_array, max_output_tokens=8192, temperature=1, top_p=0.95):\n",
    "    model = GenerativeModel(\"gemini-1.5-pro-preview-0409\")\n",
    "    params = {}\n",
    "    params[\"safety_settings\"] = {\n",
    "        generative_models.HarmCategory.HARM_CATEGORY_HATE_SPEECH: generative_models.HarmBlockThreshold.BLOCK_MEDIUM_AND_ABOVE,\n",
    "        generative_models.HarmCategory.HARM_CATEGORY_DANGEROUS_CONTENT: generative_models.HarmBlockThreshold.BLOCK_MEDIUM_AND_ABOVE,\n",
    "        generative_models.HarmCategory.HARM_CATEGORY_SEXUALLY_EXPLICIT: generative_models.HarmBlockThreshold.BLOCK_MEDIUM_AND_ABOVE,\n",
    "        generative_models.HarmCategory.HARM_CATEGORY_HARASSMENT: generative_models.HarmBlockThreshold.BLOCK_MEDIUM_AND_ABOVE,\n",
    "    }\n",
    "    params[\"generation_config\"] = {\"max_output_tokens\": max_output_tokens,\"temperature\": temperature,\"top_p\": top_p}\n",
    "    params[\"stream\"] = True\n",
    "    ##responses = model.generate_content(input_array,generation_config=generation_config,safety_settings=safety_settings, stream=True)\n",
    "    responses = model.generate_content(input_array,**params)\n",
    "    return responses"
   ]
  },
  {
   "cell_type": "code",
   "execution_count": 72,
   "id": "c22872b1-c12f-491a-8170-66df49d56245",
   "metadata": {
    "tags": []
   },
   "outputs": [],
   "source": [
    "from google.cloud import storage\n",
    "# -1) Helper functions for bucket management\n",
    "# -1.1) Fetching from youtube\n",
    "def download_video(video_url):\n",
    "    # Create a YouTube object\n",
    "    yt = YouTube(video_url)\n",
    "    \n",
    "    # Filter to get the highest resolution stream that includes both video and audio\n",
    "    stream = yt.streams.filter(progressive=True, file_extension='mp4').order_by('resolution').desc().first()\n",
    "    \n",
    "    # Download the video\n",
    "    if stream:\n",
    "        print(f\"Going to download {video_url}\")\n",
    "        stream.download()\n",
    "        print(f\"Downloaded into {stream.default_filename}\")\n",
    "    else:\n",
    "        print(\"No suitable stream found\")\n",
    "    return stream.default_filename\n",
    "def upload_video_sur_bucket(video_url):\n",
    "    downloaded_video     = download_video(video_url)\n",
    "    uploaded_video       = upload_file_to_bucket(bucket_name, downloaded_video)\n",
    "    \n",
    "    uri_video_sur_bucket = f\"gs://{bucket_name}/{uploaded_video}\"\n",
    "\n",
    "    return uri_video_sur_bucket\n",
    "# -1.2) Managing buckets\n",
    "def list_buckets_names():\n",
    "    storage_client = storage.Client()\n",
    "    buckets        = storage_client.list_buckets()\n",
    "    return [bucket.name for bucket in buckets]\n",
    "\n",
    "\n",
    "def create_bucket_class_location(bucket_name, storage_class = \"STANDARD\", location=\"us\"):\n",
    "    storage_client       = storage.Client()\n",
    "    bucket               = storage_client.bucket(bucket_name)\n",
    "    bucket.storage_class = storage_class\n",
    "    new_bucket           = storage_client.create_bucket(bucket, location=location)\n",
    "    print(f\"Created bucket {new_bucket.name} in {new_bucket.location} with storage class {new_bucket.storage_class}\")\n",
    "    return new_bucket\n",
    "\n",
    "\n",
    "def upload_file_to_gcs(bucket_name, source_file_path, destination_blob_name):\n",
    "    client = storage.Client()\n",
    "    bucket = client.bucket(bucket_name)\n",
    "    blob = bucket.blob(destination_blob_name)\n",
    "    blob.upload_from_filename(source_file_path)\n",
    "    return blob\n",
    "def upload_file_to_bucket(bucket_name, source_file_path_name): \n",
    "    source_file_path = f\"./{source_file_path_name}\"\n",
    "    destination_blob_name = source_file_path_name.replace(' ', '_')\n",
    "    destination_blob_name = unidecode.unidecode(destination_blob_name)\n",
    "    uploaded_blob         = upload_file_to_gcs(bucket_name, source_file_path, destination_blob_name)\n",
    "    print(f\"File [{source_file_path}] \\nUploaded to [{uploaded_blob.name}] \\nIn bucket [{bucket_name}]\")\n",
    "    return destination_blob_name\n",
    "def create_bucket_if_doesnt_exist(bucket_name):\n",
    "    if bucket_name not in list_buckets_names():\n",
    "        print(f\"Going to create bucket :{bucket_name}\")\n",
    "        create_bucket_class_location(bucket_name)\n",
    "        \n",
    "    assert(bucket_name in list_buckets_names())\n",
    "\n",
    "    \n",
    "# - 1.3) 🔥 Calling Gemini 🔥 (the magic is here ! )\n",
    "def generate(input_array, max_output_tokens=8192, temperature=1, top_p=0.95):\n",
    "    model = GenerativeModel(\"gemini-1.5-pro-preview-0409\")\n",
    "    params = {}\n",
    "    params[\"safety_settings\"] = {\n",
    "        generative_models.HarmCategory.HARM_CATEGORY_HATE_SPEECH: generative_models.HarmBlockThreshold.BLOCK_MEDIUM_AND_ABOVE,\n",
    "        generative_models.HarmCategory.HARM_CATEGORY_DANGEROUS_CONTENT: generative_models.HarmBlockThreshold.BLOCK_MEDIUM_AND_ABOVE,\n",
    "        generative_models.HarmCategory.HARM_CATEGORY_SEXUALLY_EXPLICIT: generative_models.HarmBlockThreshold.BLOCK_MEDIUM_AND_ABOVE,\n",
    "        generative_models.HarmCategory.HARM_CATEGORY_HARASSMENT: generative_models.HarmBlockThreshold.BLOCK_MEDIUM_AND_ABOVE,\n",
    "    }\n",
    "    params[\"generation_config\"] = {\"max_output_tokens\": max_output_tokens,\"temperature\": temperature,\"top_p\": top_p}\n",
    "    params[\"stream\"] = True\n",
    "    ##responses = model.generate_content(input_array,generation_config=generation_config,safety_settings=safety_settings, stream=True)\n",
    "    responses = model.generate_content(input_array,**params)\n",
    "    return responses"
   ]
  },
  {
   "cell_type": "code",
   "execution_count": 73,
   "id": "4f67f133-f7fa-4699-9eb0-3741afe9782a",
   "metadata": {
    "tags": []
   },
   "outputs": [],
   "source": [
    "# Define the video URL\n",
    "video_url = \"https://www.youtube.com/watch?v=BZ9SaUIUL58\"\n",
    "\n",
    "\n",
    "# Set with your own parameters\n",
    "bucket_name = \"my-project-0004-bucket\""
   ]
  },
  {
   "cell_type": "code",
   "execution_count": 74,
   "id": "57993d31-77b3-4023-ba95-d348cd5b89dc",
   "metadata": {
    "tags": []
   },
   "outputs": [],
   "source": [
    "vertexai.init(project=PROJECT_ID, location=\"us-central1\")\n",
    "create_bucket_if_doesnt_exist(bucket_name)"
   ]
  },
  {
   "cell_type": "code",
   "execution_count": 75,
   "id": "17759da6-5bc3-4348-b3fa-775e4aa45b12",
   "metadata": {
    "tags": []
   },
   "outputs": [
    {
     "name": "stdout",
     "output_type": "stream",
     "text": [
      "Going to download https://www.youtube.com/watch?v=BZ9SaUIUL58\n",
      "Downloaded into Tried out Googles Code Gemma.mp4\n"
     ]
    },
    {
     "ename": "FileNotFoundError",
     "evalue": "[Errno 2] No such file or directory: '/Tried out Googles Code Gemma.mp4'",
     "output_type": "error",
     "traceback": [
      "\u001b[0;31m---------------------------------------------------------------------------\u001b[0m",
      "\u001b[0;31mFileNotFoundError\u001b[0m                         Traceback (most recent call last)",
      "Cell \u001b[0;32mIn[75], line 4\u001b[0m\n\u001b[1;32m      1\u001b[0m \u001b[38;5;66;03m# 1.2) transfer youtube video to the bucket\u001b[39;00m\n\u001b[1;32m      3\u001b[0m downloaded_video \u001b[38;5;241m=\u001b[39m download_video(video_url)\n\u001b[0;32m----> 4\u001b[0m uploaded_video \u001b[38;5;241m=\u001b[39m \u001b[43mupload_file_to_bucket\u001b[49m\u001b[43m(\u001b[49m\u001b[43mbucket_name\u001b[49m\u001b[43m,\u001b[49m\u001b[43m \u001b[49m\u001b[43mdownloaded_video\u001b[49m\u001b[43m)\u001b[49m\n",
      "Cell \u001b[0;32mIn[72], line 52\u001b[0m, in \u001b[0;36mupload_file_to_bucket\u001b[0;34m(bucket_name, source_file_path)\u001b[0m\n\u001b[1;32m     50\u001b[0m destination_blob_name \u001b[38;5;241m=\u001b[39m source_file_path\u001b[38;5;241m.\u001b[39mreplace(\u001b[38;5;124m'\u001b[39m\u001b[38;5;124m \u001b[39m\u001b[38;5;124m'\u001b[39m, \u001b[38;5;124m'\u001b[39m\u001b[38;5;124m_\u001b[39m\u001b[38;5;124m'\u001b[39m)\n\u001b[1;32m     51\u001b[0m destination_blob_name \u001b[38;5;241m=\u001b[39m unidecode\u001b[38;5;241m.\u001b[39munidecode(destination_blob_name)\n\u001b[0;32m---> 52\u001b[0m uploaded_blob         \u001b[38;5;241m=\u001b[39m \u001b[43mupload_file_to_gcs\u001b[49m\u001b[43m(\u001b[49m\u001b[43mbucket_name\u001b[49m\u001b[43m,\u001b[49m\u001b[43m \u001b[49m\u001b[43msource_file_path\u001b[49m\u001b[43m,\u001b[49m\u001b[43m \u001b[49m\u001b[43mdestination_blob_name\u001b[49m\u001b[43m)\u001b[49m\n\u001b[1;32m     53\u001b[0m \u001b[38;5;28mprint\u001b[39m(\u001b[38;5;124mf\u001b[39m\u001b[38;5;124m\"\u001b[39m\u001b[38;5;124mFile [\u001b[39m\u001b[38;5;132;01m{\u001b[39;00msource_file_path\u001b[38;5;132;01m}\u001b[39;00m\u001b[38;5;124m] \u001b[39m\u001b[38;5;130;01m\\n\u001b[39;00m\u001b[38;5;124mUploaded to [\u001b[39m\u001b[38;5;132;01m{\u001b[39;00muploaded_blob\u001b[38;5;241m.\u001b[39mname\u001b[38;5;132;01m}\u001b[39;00m\u001b[38;5;124m] \u001b[39m\u001b[38;5;130;01m\\n\u001b[39;00m\u001b[38;5;124mIn bucket [\u001b[39m\u001b[38;5;132;01m{\u001b[39;00mbucket_name\u001b[38;5;132;01m}\u001b[39;00m\u001b[38;5;124m]\u001b[39m\u001b[38;5;124m\"\u001b[39m)\n\u001b[1;32m     54\u001b[0m \u001b[38;5;28;01mreturn\u001b[39;00m destination_blob_name\n",
      "Cell \u001b[0;32mIn[72], line 46\u001b[0m, in \u001b[0;36mupload_file_to_gcs\u001b[0;34m(bucket_name, source_file_path, destination_blob_name)\u001b[0m\n\u001b[1;32m     44\u001b[0m bucket \u001b[38;5;241m=\u001b[39m client\u001b[38;5;241m.\u001b[39mbucket(bucket_name)\n\u001b[1;32m     45\u001b[0m blob \u001b[38;5;241m=\u001b[39m bucket\u001b[38;5;241m.\u001b[39mblob(destination_blob_name)\n\u001b[0;32m---> 46\u001b[0m \u001b[43mblob\u001b[49m\u001b[38;5;241;43m.\u001b[39;49m\u001b[43mupload_from_filename\u001b[49m\u001b[43m(\u001b[49m\u001b[43msource_file_path\u001b[49m\u001b[43m)\u001b[49m\n\u001b[1;32m     47\u001b[0m \u001b[38;5;28;01mreturn\u001b[39;00m blob\n",
      "File \u001b[0;32m/opt/conda/envs/r/lib/python3.12/site-packages/google/cloud/storage/blob.py:2929\u001b[0m, in \u001b[0;36mBlob.upload_from_filename\u001b[0;34m(self, filename, content_type, num_retries, client, predefined_acl, if_generation_match, if_generation_not_match, if_metageneration_match, if_metageneration_not_match, timeout, checksum, retry)\u001b[0m\n\u001b[1;32m   2807\u001b[0m \u001b[38;5;28;01mdef\u001b[39;00m \u001b[38;5;21mupload_from_filename\u001b[39m(\n\u001b[1;32m   2808\u001b[0m     \u001b[38;5;28mself\u001b[39m,\n\u001b[1;32m   2809\u001b[0m     filename,\n\u001b[0;32m   (...)\u001b[0m\n\u001b[1;32m   2820\u001b[0m     retry\u001b[38;5;241m=\u001b[39mDEFAULT_RETRY_IF_GENERATION_SPECIFIED,\n\u001b[1;32m   2821\u001b[0m ):\n\u001b[1;32m   2822\u001b[0m \u001b[38;5;250m    \u001b[39m\u001b[38;5;124;03m\"\"\"Upload this blob's contents from the content of a named file.\u001b[39;00m\n\u001b[1;32m   2823\u001b[0m \n\u001b[1;32m   2824\u001b[0m \u001b[38;5;124;03m    The content type of the upload will be determined in order\u001b[39;00m\n\u001b[0;32m   (...)\u001b[0m\n\u001b[1;32m   2926\u001b[0m \u001b[38;5;124;03m        are respected.\u001b[39;00m\n\u001b[1;32m   2927\u001b[0m \u001b[38;5;124;03m    \"\"\"\u001b[39;00m\n\u001b[0;32m-> 2929\u001b[0m     \u001b[38;5;28;43mself\u001b[39;49m\u001b[38;5;241;43m.\u001b[39;49m\u001b[43m_handle_filename_and_upload\u001b[49m\u001b[43m(\u001b[49m\n\u001b[1;32m   2930\u001b[0m \u001b[43m        \u001b[49m\u001b[43mfilename\u001b[49m\u001b[43m,\u001b[49m\n\u001b[1;32m   2931\u001b[0m \u001b[43m        \u001b[49m\u001b[43mcontent_type\u001b[49m\u001b[38;5;241;43m=\u001b[39;49m\u001b[43mcontent_type\u001b[49m\u001b[43m,\u001b[49m\n\u001b[1;32m   2932\u001b[0m \u001b[43m        \u001b[49m\u001b[43mnum_retries\u001b[49m\u001b[38;5;241;43m=\u001b[39;49m\u001b[43mnum_retries\u001b[49m\u001b[43m,\u001b[49m\n\u001b[1;32m   2933\u001b[0m \u001b[43m        \u001b[49m\u001b[43mclient\u001b[49m\u001b[38;5;241;43m=\u001b[39;49m\u001b[43mclient\u001b[49m\u001b[43m,\u001b[49m\n\u001b[1;32m   2934\u001b[0m \u001b[43m        \u001b[49m\u001b[43mpredefined_acl\u001b[49m\u001b[38;5;241;43m=\u001b[39;49m\u001b[43mpredefined_acl\u001b[49m\u001b[43m,\u001b[49m\n\u001b[1;32m   2935\u001b[0m \u001b[43m        \u001b[49m\u001b[43mif_generation_match\u001b[49m\u001b[38;5;241;43m=\u001b[39;49m\u001b[43mif_generation_match\u001b[49m\u001b[43m,\u001b[49m\n\u001b[1;32m   2936\u001b[0m \u001b[43m        \u001b[49m\u001b[43mif_generation_not_match\u001b[49m\u001b[38;5;241;43m=\u001b[39;49m\u001b[43mif_generation_not_match\u001b[49m\u001b[43m,\u001b[49m\n\u001b[1;32m   2937\u001b[0m \u001b[43m        \u001b[49m\u001b[43mif_metageneration_match\u001b[49m\u001b[38;5;241;43m=\u001b[39;49m\u001b[43mif_metageneration_match\u001b[49m\u001b[43m,\u001b[49m\n\u001b[1;32m   2938\u001b[0m \u001b[43m        \u001b[49m\u001b[43mif_metageneration_not_match\u001b[49m\u001b[38;5;241;43m=\u001b[39;49m\u001b[43mif_metageneration_not_match\u001b[49m\u001b[43m,\u001b[49m\n\u001b[1;32m   2939\u001b[0m \u001b[43m        \u001b[49m\u001b[43mtimeout\u001b[49m\u001b[38;5;241;43m=\u001b[39;49m\u001b[43mtimeout\u001b[49m\u001b[43m,\u001b[49m\n\u001b[1;32m   2940\u001b[0m \u001b[43m        \u001b[49m\u001b[43mchecksum\u001b[49m\u001b[38;5;241;43m=\u001b[39;49m\u001b[43mchecksum\u001b[49m\u001b[43m,\u001b[49m\n\u001b[1;32m   2941\u001b[0m \u001b[43m        \u001b[49m\u001b[43mretry\u001b[49m\u001b[38;5;241;43m=\u001b[39;49m\u001b[43mretry\u001b[49m\u001b[43m,\u001b[49m\n\u001b[1;32m   2942\u001b[0m \u001b[43m    \u001b[49m\u001b[43m)\u001b[49m\n",
      "File \u001b[0;32m/opt/conda/envs/r/lib/python3.12/site-packages/google/cloud/storage/blob.py:2797\u001b[0m, in \u001b[0;36mBlob._handle_filename_and_upload\u001b[0;34m(self, filename, content_type, *args, **kwargs)\u001b[0m\n\u001b[1;32m   2784\u001b[0m \u001b[38;5;250m\u001b[39m\u001b[38;5;124;03m\"\"\"Upload this blob's contents from the content of a named file.\u001b[39;00m\n\u001b[1;32m   2785\u001b[0m \n\u001b[1;32m   2786\u001b[0m \u001b[38;5;124;03m:type filename: str\u001b[39;00m\n\u001b[0;32m   (...)\u001b[0m\n\u001b[1;32m   2792\u001b[0m \u001b[38;5;124;03mFor *args and **kwargs, refer to the documentation for upload_from_filename() for more information.\u001b[39;00m\n\u001b[1;32m   2793\u001b[0m \u001b[38;5;124;03m\"\"\"\u001b[39;00m\n\u001b[1;32m   2795\u001b[0m content_type \u001b[38;5;241m=\u001b[39m \u001b[38;5;28mself\u001b[39m\u001b[38;5;241m.\u001b[39m_get_content_type(content_type, filename\u001b[38;5;241m=\u001b[39mfilename)\n\u001b[0;32m-> 2797\u001b[0m \u001b[38;5;28;01mwith\u001b[39;00m \u001b[38;5;28;43mopen\u001b[39;49m\u001b[43m(\u001b[49m\u001b[43mfilename\u001b[49m\u001b[43m,\u001b[49m\u001b[43m \u001b[49m\u001b[38;5;124;43m\"\u001b[39;49m\u001b[38;5;124;43mrb\u001b[39;49m\u001b[38;5;124;43m\"\u001b[39;49m\u001b[43m)\u001b[49m \u001b[38;5;28;01mas\u001b[39;00m file_obj:\n\u001b[1;32m   2798\u001b[0m     total_bytes \u001b[38;5;241m=\u001b[39m os\u001b[38;5;241m.\u001b[39mfstat(file_obj\u001b[38;5;241m.\u001b[39mfileno())\u001b[38;5;241m.\u001b[39mst_size\n\u001b[1;32m   2799\u001b[0m     \u001b[38;5;28mself\u001b[39m\u001b[38;5;241m.\u001b[39m_prep_and_do_upload(\n\u001b[1;32m   2800\u001b[0m         file_obj,\n\u001b[1;32m   2801\u001b[0m         content_type\u001b[38;5;241m=\u001b[39mcontent_type,\n\u001b[0;32m   (...)\u001b[0m\n\u001b[1;32m   2804\u001b[0m         \u001b[38;5;241m*\u001b[39m\u001b[38;5;241m*\u001b[39mkwargs,\n\u001b[1;32m   2805\u001b[0m     )\n",
      "\u001b[0;31mFileNotFoundError\u001b[0m: [Errno 2] No such file or directory: '/Tried out Googles Code Gemma.mp4'"
     ]
    }
   ],
   "source": [
    "# 1.2) transfer youtube video to the bucket\n",
    "\n",
    "downloaded_video = download_video(video_url)\n",
    "uploaded_video = upload_file_to_bucket(bucket_name, downloaded_video)"
   ]
  },
  {
   "cell_type": "code",
   "execution_count": 71,
   "id": "03fad45c-e034-4632-a72d-1553efe5c8a2",
   "metadata": {
    "tags": []
   },
   "outputs": [
    {
     "data": {
      "text/plain": [
       "'./Tried_out_Googles_Code_Gemma.mp4'"
      ]
     },
     "execution_count": 71,
     "metadata": {},
     "output_type": "execute_result"
    }
   ],
   "source": [
    "uploaded_video"
   ]
  },
  {
   "cell_type": "markdown",
   "id": "58201234-7482-45ae-a74b-37342585f3de",
   "metadata": {},
   "source": [
    "### 1.3) Add the video as a Part of the model\n"
   ]
  },
  {
   "cell_type": "code",
   "execution_count": 35,
   "id": "288ecd13-f01c-4355-8de1-cb104cde56d5",
   "metadata": {
    "tags": []
   },
   "outputs": [],
   "source": [
    "from vertexai.generative_models import GenerativeModel\n",
    "\n",
    "import base64\n",
    "import vertexai\n",
    "from vertexai.generative_models import GenerativeModel, Part, FinishReason\n",
    "import vertexai.preview.generative_models as generative_models\n"
   ]
  },
  {
   "cell_type": "code",
   "execution_count": 53,
   "id": "8a0f82bf-70dc-424c-8193-2d02bd2229a6",
   "metadata": {
    "tags": []
   },
   "outputs": [
    {
     "name": "stdout",
     "output_type": "stream",
     "text": [
      "Budget_participatif_Saison_3___votez_jusquau_11_juin_!.mp4\n"
     ]
    }
   ],
   "source": [
    "import os\n",
    "\n",
    "filename = uploaded_video\n",
    "base_name = os.path.basename(filename)  # Get the base filename\n",
    "# name_without_ext = os.path.splitext(base_name)[0]  # Split off the extension \n",
    "\n",
    "print(base_name) "
   ]
  },
  {
   "cell_type": "code",
   "execution_count": 54,
   "id": "62714c02-839c-4200-9ac0-e1e87ba26c6c",
   "metadata": {
    "tags": []
   },
   "outputs": [],
   "source": [
    "uri_video_sur_bucket = f\"gs://{bucket_name}/{base_name}\"\n",
    "mime_type = \"video/mp4\"\n",
    "parameters = {\"mime_type\"  : mime_type, \n",
    "              \"uri\"        : uri_video_sur_bucket }\n",
    "video = Part.from_uri(**parameters)"
   ]
  },
  {
   "cell_type": "code",
   "execution_count": 64,
   "id": "052090b2-b431-4e28-9b47-56526e8aa0c3",
   "metadata": {
    "tags": []
   },
   "outputs": [],
   "source": [
    "prompt = \"\"\"\"Create a chapter index for this video and generate a nice HTML code to present the chapter index.\"\"\"\n",
    "responses = generate([prompt, video])"
   ]
  },
  {
   "cell_type": "code",
   "execution_count": 65,
   "id": "fd98f80c-2daf-46c3-87cc-e6d8b8971730",
   "metadata": {
    "tags": []
   },
   "outputs": [
    {
     "name": "stdout",
     "output_type": "stream",
     "text": [
      "................"
     ]
    }
   ],
   "source": [
    "result = []\n",
    "for response in responses :\n",
    "    print(\".\",end=\"\")\n",
    "    result.append(response.text)"
   ]
  },
  {
   "cell_type": "code",
   "execution_count": 66,
   "id": "8cf97316-8219-4776-9fa0-a9dede7bf0f2",
   "metadata": {
    "tags": []
   },
   "outputs": [
    {
     "name": "stdout",
     "output_type": "stream",
     "text": [
      "##\n",
      "  Budget Participatif - Suresnes - Saison 3 - Index des Cha\n",
      "pitres\n",
      "\n",
      "Malheureusement, je ne peux pas créer un index des chapitres\n",
      " complet ni générer le code HTML correspondant sans plus d'informations sur le contenu de la vidéo.  Pour créer un index précis, j'aurais besoin de détails\n",
      " sur les sujets abordés et les moments clés de la vidéo. \n",
      "\n",
      "Cependant, je peux vous fournir un exemple de structure d'index et de code HTML\n",
      " que vous pouvez adapter à votre vidéo :\n",
      "\n",
      "**Exemple de structure d'index :**\n",
      "\n",
      "* **Introduction (00:00)**\n",
      "* **Qu'est-ce que le budget participatif ? (00:1\n",
      "5)**\n",
      "* **Projets de la saison 2 (00:30)**\n",
      "    * **Compostage (00:40)**\n",
      "    * **Chiens en EHPAD (00:5\n",
      "0)**\n",
      "    * **Nichoirs à oiseaux (01:00)**\n",
      "    * **Jardin partagé (01:10)**\n",
      "* **Projets de la saison 3 (01:20)**\n",
      "    * **Tables de pique-nique (01:30\n",
      ")**\n",
      "    * **Casques audiodescription (01:40)**\n",
      "    * **Ateliers du rire pour séniors (01:50)**\n",
      "* **Comment voter ? (02:00)**\n",
      "* **Date limite de vote (02:10)**\n",
      "*\n",
      " **Conclusion (02:20)** \n",
      "\n",
      "**Exemple de code HTML :**\n",
      "\n",
      "```html\n",
      "<!DOCTYPE html>\n",
      "<html>\n",
      "<head>\n",
      "  <title>Budget Participatif - Suresnes - Saison 3</title>\n",
      "</head>\n",
      "<body>\n",
      "  <h1>\n",
      "Budget Participatif - Suresnes - Saison 3</h1>\n",
      "  <h2>Index des Chapitres</h2>\n",
      "  <ul>\n",
      "    <li><a href=\"#00:00\">Introduction</a></li>\n",
      "    <li><a href=\"#00:15\">Qu'est-\n",
      "ce que le budget participatif ?</a></li>\n",
      "    <li>Projets de la saison 2\n",
      "      <ul>\n",
      "        <li><a href=\"#00:40\">Compostage</a></li>\n",
      "        <li><a href=\"#00:50\">\n",
      "Chiens en EHPAD</a></li>\n",
      "        <!-- Ajouter les autres projets -->\n",
      "      </ul>\n",
      "    </li>\n",
      "    <!-- Ajouter les autres sections de l'index -->\n",
      "  </ul>\n",
      "</body>\n",
      "</html>\n",
      "```\n",
      "\n",
      "**Instructions pour adapter le code :\n",
      "**\n",
      "\n",
      "1. Remplacez les titres et les horodatages par ceux qui correspondent à votre vidéo.\n",
      "2. Ajoutez des liens vers les sections correspondantes de la vidéo en utilisant des ancres HTML (par exemple, `<a href=\"#01:30\">Tables de pique-nique</a>`\n",
      ").\n",
      "3. Si la vidéo est hébergée en ligne, vous pouvez remplacer les horodatages par des liens directs vers les moments précis de la vidéo.\n",
      "\n",
      "**Conseils supplémentaires :**\n",
      "\n",
      "* Utilisez un éditeur de texte ou un IDE pour modifier le code HTML.\n",
      "* Vous pouvez ajouter des styles CSS\n",
      " pour personnaliser l'apparence de l'index. \n",
      "* Assurez-vous que les liens fonctionnent correctement avant de partager l'index.\n",
      "\n",
      "J'espère que cela vous aidera à créer un index des chapitres utile pour votre vidéo sur le budget participatif de Suresnes. \n",
      "\n"
     ]
    }
   ],
   "source": [
    "print(\"\\n\".join(result))\n"
   ]
  },
  {
   "cell_type": "code",
   "execution_count": null,
   "id": "2a4d8dbb-8496-4a8f-b09a-557f2f0b857c",
   "metadata": {},
   "outputs": [],
   "source": []
  }
 ],
 "metadata": {
  "environment": {
   "kernel": "conda-root-py312",
   "name": "workbench-notebooks.m113",
   "type": "gcloud",
   "uri": "gcr.io/deeplearning-platform-release/workbench-notebooks:m113"
  },
  "kernelspec": {
   "display_name": "py312 (Local)",
   "language": "python",
   "name": "conda-root-py312"
  },
  "language_info": {
   "codemirror_mode": {
    "name": "ipython",
    "version": 3
   },
   "file_extension": ".py",
   "mimetype": "text/x-python",
   "name": "python",
   "nbconvert_exporter": "python",
   "pygments_lexer": "ipython3",
   "version": "3.12.1"
  }
 },
 "nbformat": 4,
 "nbformat_minor": 5
}
