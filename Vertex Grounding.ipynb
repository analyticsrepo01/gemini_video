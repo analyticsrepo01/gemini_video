{
 "cells": [
  {
   "cell_type": "code",
   "execution_count": 1,
   "id": "f602df80-40d8-48b1-9f81-58251d60fb42",
   "metadata": {
    "scrolled": true,
    "tags": []
   },
   "outputs": [
    {
     "name": "stdout",
     "output_type": "stream",
     "text": [
      "Requirement already satisfied: google-cloud-aiplatform in /opt/conda/lib/python3.10/site-packages (1.42.1)\n",
      "Collecting google-cloud-aiplatform\n",
      "  Downloading google_cloud_aiplatform-1.49.0-py2.py3-none-any.whl.metadata (30 kB)\n",
      "Requirement already satisfied: google-api-core!=2.0.*,!=2.1.*,!=2.2.*,!=2.3.*,!=2.4.*,!=2.5.*,!=2.6.*,!=2.7.*,<3.0.0dev,>=1.34.1 in /opt/conda/lib/python3.10/site-packages (from google-api-core[grpc]!=2.0.*,!=2.1.*,!=2.2.*,!=2.3.*,!=2.4.*,!=2.5.*,!=2.6.*,!=2.7.*,<3.0.0dev,>=1.34.1->google-cloud-aiplatform) (2.17.1)\n",
      "Requirement already satisfied: google-auth<3.0.0dev,>=2.14.1 in /opt/conda/lib/python3.10/site-packages (from google-cloud-aiplatform) (2.28.2)\n",
      "Requirement already satisfied: proto-plus<2.0.0dev,>=1.22.0 in /opt/conda/lib/python3.10/site-packages (from google-cloud-aiplatform) (1.23.0)\n",
      "Requirement already satisfied: protobuf!=3.20.0,!=3.20.1,!=4.21.0,!=4.21.1,!=4.21.2,!=4.21.3,!=4.21.4,!=4.21.5,<5.0.0dev,>=3.19.5 in /opt/conda/lib/python3.10/site-packages (from google-cloud-aiplatform) (4.25.3)\n",
      "Requirement already satisfied: packaging>=14.3 in /opt/conda/lib/python3.10/site-packages (from google-cloud-aiplatform) (23.2)\n",
      "Requirement already satisfied: google-cloud-storage<3.0.0dev,>=1.32.0 in /opt/conda/lib/python3.10/site-packages (from google-cloud-aiplatform) (2.15.0)\n",
      "Requirement already satisfied: google-cloud-bigquery!=3.20.0,<4.0.0dev,>=1.15.0 in /opt/conda/lib/python3.10/site-packages (from google-cloud-aiplatform) (3.19.0)\n",
      "Requirement already satisfied: google-cloud-resource-manager<3.0.0dev,>=1.3.3 in /opt/conda/lib/python3.10/site-packages (from google-cloud-aiplatform) (1.12.3)\n",
      "Requirement already satisfied: shapely<3.0.0dev in /opt/conda/lib/python3.10/site-packages (from google-cloud-aiplatform) (2.0.3)\n",
      "Requirement already satisfied: pydantic<3 in /opt/conda/lib/python3.10/site-packages (from google-cloud-aiplatform) (2.4.2)\n",
      "Requirement already satisfied: docstring-parser<1 in /opt/conda/lib/python3.10/site-packages (from google-cloud-aiplatform) (0.15)\n",
      "Requirement already satisfied: googleapis-common-protos<2.0.dev0,>=1.56.2 in /opt/conda/lib/python3.10/site-packages (from google-api-core!=2.0.*,!=2.1.*,!=2.2.*,!=2.3.*,!=2.4.*,!=2.5.*,!=2.6.*,!=2.7.*,<3.0.0dev,>=1.34.1->google-api-core[grpc]!=2.0.*,!=2.1.*,!=2.2.*,!=2.3.*,!=2.4.*,!=2.5.*,!=2.6.*,!=2.7.*,<3.0.0dev,>=1.34.1->google-cloud-aiplatform) (1.63.0)\n",
      "Requirement already satisfied: requests<3.0.0.dev0,>=2.18.0 in /opt/conda/lib/python3.10/site-packages (from google-api-core!=2.0.*,!=2.1.*,!=2.2.*,!=2.3.*,!=2.4.*,!=2.5.*,!=2.6.*,!=2.7.*,<3.0.0dev,>=1.34.1->google-api-core[grpc]!=2.0.*,!=2.1.*,!=2.2.*,!=2.3.*,!=2.4.*,!=2.5.*,!=2.6.*,!=2.7.*,<3.0.0dev,>=1.34.1->google-cloud-aiplatform) (2.31.0)\n",
      "Requirement already satisfied: grpcio<2.0dev,>=1.33.2 in /opt/conda/lib/python3.10/site-packages (from google-api-core[grpc]!=2.0.*,!=2.1.*,!=2.2.*,!=2.3.*,!=2.4.*,!=2.5.*,!=2.6.*,!=2.7.*,<3.0.0dev,>=1.34.1->google-cloud-aiplatform) (1.62.1)\n",
      "Requirement already satisfied: grpcio-status<2.0.dev0,>=1.33.2 in /opt/conda/lib/python3.10/site-packages (from google-api-core[grpc]!=2.0.*,!=2.1.*,!=2.2.*,!=2.3.*,!=2.4.*,!=2.5.*,!=2.6.*,!=2.7.*,<3.0.0dev,>=1.34.1->google-cloud-aiplatform) (1.62.1)\n",
      "Requirement already satisfied: cachetools<6.0,>=2.0.0 in /opt/conda/lib/python3.10/site-packages (from google-auth<3.0.0dev,>=2.14.1->google-cloud-aiplatform) (5.3.3)\n",
      "Requirement already satisfied: pyasn1-modules>=0.2.1 in /opt/conda/lib/python3.10/site-packages (from google-auth<3.0.0dev,>=2.14.1->google-cloud-aiplatform) (0.3.0)\n",
      "Requirement already satisfied: rsa<5,>=3.1.4 in /opt/conda/lib/python3.10/site-packages (from google-auth<3.0.0dev,>=2.14.1->google-cloud-aiplatform) (4.9)\n",
      "Requirement already satisfied: google-cloud-core<3.0.0dev,>=1.6.0 in /opt/conda/lib/python3.10/site-packages (from google-cloud-bigquery!=3.20.0,<4.0.0dev,>=1.15.0->google-cloud-aiplatform) (2.4.1)\n",
      "Requirement already satisfied: google-resumable-media<3.0dev,>=0.6.0 in /opt/conda/lib/python3.10/site-packages (from google-cloud-bigquery!=3.20.0,<4.0.0dev,>=1.15.0->google-cloud-aiplatform) (2.7.0)\n",
      "Requirement already satisfied: python-dateutil<3.0dev,>=2.7.2 in /opt/conda/lib/python3.10/site-packages (from google-cloud-bigquery!=3.20.0,<4.0.0dev,>=1.15.0->google-cloud-aiplatform) (2.8.2)\n",
      "Requirement already satisfied: grpc-google-iam-v1<1.0.0dev,>=0.12.4 in /opt/conda/lib/python3.10/site-packages (from google-cloud-resource-manager<3.0.0dev,>=1.3.3->google-cloud-aiplatform) (0.13.0)\n",
      "Requirement already satisfied: google-crc32c<2.0dev,>=1.0 in /opt/conda/lib/python3.10/site-packages (from google-cloud-storage<3.0.0dev,>=1.32.0->google-cloud-aiplatform) (1.5.0)\n",
      "Requirement already satisfied: annotated-types>=0.4.0 in /opt/conda/lib/python3.10/site-packages (from pydantic<3->google-cloud-aiplatform) (0.6.0)\n",
      "Requirement already satisfied: pydantic-core==2.10.1 in /opt/conda/lib/python3.10/site-packages (from pydantic<3->google-cloud-aiplatform) (2.10.1)\n",
      "Requirement already satisfied: typing-extensions>=4.6.1 in /opt/conda/lib/python3.10/site-packages (from pydantic<3->google-cloud-aiplatform) (4.8.0)\n",
      "Requirement already satisfied: numpy<2,>=1.14 in /opt/conda/lib/python3.10/site-packages (from shapely<3.0.0dev->google-cloud-aiplatform) (1.26.4)\n",
      "Requirement already satisfied: pyasn1<0.6.0,>=0.4.6 in /opt/conda/lib/python3.10/site-packages (from pyasn1-modules>=0.2.1->google-auth<3.0.0dev,>=2.14.1->google-cloud-aiplatform) (0.5.1)\n",
      "\u001b[31mERROR: Could not install packages due to an OSError: [Errno 2] No such file or directory: '/opt/conda/lib/python3.10/site-packages/python_dateutil-2.8.2.dist-info/METADATA'\n",
      "\u001b[0m\u001b[31m\n",
      "\u001b[0mNote: you may need to restart the kernel to use updated packages.\n",
      "Requirement already satisfied: vertexai in /opt/conda/lib/python3.10/site-packages (0.0.1)\n",
      "\u001b[33mWARNING: Error parsing requirements for jinja2: [Errno 2] No such file or directory: '/opt/conda/lib/python3.10/site-packages/Jinja2-3.1.2.dist-info/METADATA'\u001b[0m\u001b[33m\n",
      "\u001b[0m\u001b[33mWARNING: Error parsing requirements for google-cloud-aiplatform: [Errno 2] No such file or directory: '/opt/conda/lib/python3.10/site-packages/google_cloud_aiplatform-1.42.1.dist-info/METADATA'\u001b[0m\u001b[33m\n",
      "\u001b[0m\u001b[33mWARNING: Error parsing requirements for nest-asyncio: [Errno 2] No such file or directory: '/opt/conda/lib/python3.10/site-packages/nest_asyncio-1.5.8.dist-info/METADATA'\u001b[0m\u001b[33m\n",
      "\u001b[0m\u001b[33mWARNING: Error parsing requirements for python-dateutil: [Errno 2] No such file or directory: '/opt/conda/lib/python3.10/site-packages/python_dateutil-2.8.2.dist-info/METADATA'\u001b[0m\u001b[33m\n",
      "\u001b[0mNote: you may need to restart the kernel to use updated packages.\n"
     ]
    }
   ],
   "source": [
    "%pip install --upgrade google-cloud-aiplatform --user\n",
    "# !gcloud auth application-default login\n",
    "%pip install vertexai"
   ]
  },
  {
   "cell_type": "code",
   "execution_count": 2,
   "id": "de1f8e79-0ee0-407a-a136-a0f34764ec3f",
   "metadata": {
    "tags": []
   },
   "outputs": [],
   "source": [
    "\n",
    "import re\n",
    "from google.cloud import aiplatform\n",
    "\n",
    "PROJECT_ID = !(gcloud config get-value core/project)\n",
    "PROJECT_ID = PROJECT_ID[0]\n",
    "\n",
    "SVC_ACC = !(gcloud config get-value core/account)\n",
    "SVC_ACC = SVC_ACC[0]\n",
    "\n",
    "PROJECT_NUMBER=str(re.search(r'\\d+', SVC_ACC).group())\n",
    "\n",
    "LOCATION=\"asia-southeast1\"\n",
    "\n",
    "FOLDER_NAME=\".\"\n"
   ]
  },
  {
   "cell_type": "code",
   "execution_count": 3,
   "id": "f6aa6efa-75f1-4a10-8910-7117483e6de6",
   "metadata": {
    "tags": []
   },
   "outputs": [],
   "source": [
    "\n",
    "\n",
    "# import base64\n",
    "# import vertexai\n",
    "# from vertexai.generative_models import GenerativeModel, Part, FinishReason, Tool\n",
    "# import vertexai.preview.generative_models as generative_models\n",
    "\n",
    "# def generate():\n",
    "#   vertexai.init(project=\"cloud-llm-preview4\", location=\"us-central1\")\n",
    "#   tools = [\n",
    "#       Tool.from_google_search_retrieval(\n",
    "#           google_search_retrieval=generative_models.grounding.GoogleSearchRetrieval(disable_attribution=False)\n",
    "#       ),\n",
    "#   ]\n",
    "#   model = GenerativeModel(\"gemini-1.5-pro-preview-0409\", tools=tools)\n",
    "#   responses = model.generate_content(\n",
    "#       [\"\"\"test the knowledge of Einstine on scale of 1 -200\"\"\"],\n",
    "#       generation_config=generation_config,\n",
    "#       safety_settings=safety_settings,\n",
    "#       stream=True,\n",
    "#   )\n",
    "\n",
    "#   for response in responses:\n",
    "#     if response.candidates[0].finish_reason != FinishReason.FINISH_REASON_UNSPECIFIED:\n",
    "#       continue\n",
    "#     print(response.text, end=\"\")\n",
    "\n",
    "\n",
    "# generation_config = {\n",
    "#     \"max_output_tokens\": 8192,\n",
    "#     \"temperature\": 1,\n",
    "#     \"top_p\": 0.95,\n",
    "# }\n",
    "\n",
    "# safety_settings = {\n",
    "#     generative_models.HarmCategory.HARM_CATEGORY_HATE_SPEECH: generative_models.HarmBlockThreshold.BLOCK_MEDIUM_AND_ABOVE,\n",
    "#     generative_models.HarmCategory.HARM_CATEGORY_DANGEROUS_CONTENT: generative_models.HarmBlockThreshold.BLOCK_MEDIUM_AND_ABOVE,\n",
    "#     generative_models.HarmCategory.HARM_CATEGORY_SEXUALLY_EXPLICIT: generative_models.HarmBlockThreshold.BLOCK_MEDIUM_AND_ABOVE,\n",
    "#     generative_models.HarmCategory.HARM_CATEGORY_HARASSMENT: generative_models.HarmBlockThreshold.BLOCK_MEDIUM_AND_ABOVE,\n",
    "# }\n",
    "\n",
    "# generate()\n",
    "\n"
   ]
  },
  {
   "cell_type": "markdown",
   "id": "b14ad49b-1e1c-4c7c-8d7e-e56cb4a00171",
   "metadata": {},
   "source": [
    "### Main "
   ]
  },
  {
   "cell_type": "code",
   "execution_count": 4,
   "id": "693ee82c-4080-4b9d-b82a-fa7d1d4eeb77",
   "metadata": {
    "tags": []
   },
   "outputs": [],
   "source": [
    "from vertexai.preview.generative_models import GenerativeModel, Tool, grounding\n",
    "\n",
    "from IPython.display import display, Markdown"
   ]
  },
  {
   "cell_type": "code",
   "execution_count": 5,
   "id": "dd87f767-fdfc-4d78-825d-014fbdd73550",
   "metadata": {
    "tags": []
   },
   "outputs": [],
   "source": [
    "PROMPT = (\n",
    "    \"What are the price, available colors, and storage size options of a Pixel Tablet?\"\n",
    ")\n",
    "model = GenerativeModel(\"gemini-1.0-pro\")\n"
   ]
  },
  {
   "cell_type": "code",
   "execution_count": 6,
   "id": "54a90aa0-b41a-48c0-99a4-85466d63a9c7",
   "metadata": {
    "tags": []
   },
   "outputs": [
    {
     "data": {
      "text/markdown": [
       "## Pixel Tablet Price, Colors, and Storage Options\n",
       "\n",
       "**Price:**\n",
       "\n",
       "* **Wi-Fi:**\n",
       "    * 128GB: $399\n",
       "    * 256GB: $479\n",
       "* **Cellular:**\n",
       "    * 128GB: $579\n",
       "    * 256GB: $659\n",
       "\n",
       "**Available Colors:**\n",
       "\n",
       "* Charcoal\n",
       "* Obsidian\n",
       "* Chalk\n",
       "\n",
       "**Storage Size Options:**\n",
       "\n",
       "* 128GB\n",
       "* 256GB\n",
       "\n",
       "**Note:** Prices may vary depending on retailer and region.\n",
       "\n",
       "Here are some additional details about the Pixel Tablet:\n",
       "\n",
       "* It features a sleek, minimalist design with a durable aluminum frame.\n",
       "* The 11-inch display offers a vibrant viewing experience with high resolution and crisp colors.\n",
       "* The Pixel Tablet is powered by the Google Tensor G2 chip, ensuring smooth performance and efficient battery life.\n",
       "* It runs on Android 13, providing a clean and intuitive user interface.\n",
       "* The Pixel Tablet is compatible with a variety of accessories, including the Pixel Charging Stand and the Pixel Keyboard, allowing you to use it as a productivity device.\n",
       "\n",
       "If you'd like to learn more about the Pixel Tablet, please visit the official Google Store website or your preferred retailer."
      ],
      "text/plain": [
       "<IPython.core.display.Markdown object>"
      ]
     },
     "metadata": {},
     "output_type": "display_data"
    }
   ],
   "source": [
    "response = model.generate_content(PROMPT)\n",
    "\n",
    "display(Markdown(response.candidates[0].text))"
   ]
  },
  {
   "cell_type": "code",
   "execution_count": 7,
   "id": "df587cf4-e34b-4d41-aa28-88bc59e75844",
   "metadata": {
    "tags": []
   },
   "outputs": [],
   "source": [
    "PROMPT2 = (\n",
    "    \"What are the price, available colors, and storage size options of a Pixel Tablet? also provode references.\"\n",
    ")"
   ]
  },
  {
   "cell_type": "code",
   "execution_count": 10,
   "id": "4f18a135-ec27-4e05-9d01-090ae963cee5",
   "metadata": {
    "tags": []
   },
   "outputs": [
    {
     "data": {
      "text/markdown": [
       "The Google Pixel Tablet is rumored to cost between EUR 600-650 (approximately Rs. 54,000-56,000), and be available in 128GB and 256GB storage options. It may come in \"porcelain and mirage\" or \"translucent and porcelain\" colors. \n",
       "\n",
       "**Source:** https://in.mashable.com/tech/51296/google-pixel-tablet-to-come-in-two-storage-options-heres-how-much-it-costs"
      ],
      "text/plain": [
       "<IPython.core.display.Markdown object>"
      ]
     },
     "metadata": {},
     "output_type": "display_data"
    }
   ],
   "source": [
    "tool = Tool.from_google_search_retrieval(grounding.GoogleSearchRetrieval(disable_attribution=False))\n",
    "\n",
    "response = model.generate_content(PROMPT2, tools=[tool])\n",
    "\n",
    "display(Markdown(response.candidates[0].text))\n",
    "\n",
    "# response"
   ]
  },
  {
   "cell_type": "code",
   "execution_count": null,
   "id": "f34253e3-05ae-4fb6-af4f-1db3c7ff8200",
   "metadata": {},
   "outputs": [],
   "source": []
  },
  {
   "cell_type": "code",
   "execution_count": 12,
   "id": "0cd41096-63ac-46a2-8ca7-696a3b53b8ed",
   "metadata": {
    "scrolled": true,
    "tags": []
   },
   "outputs": [
    {
     "name": "stdout",
     "output_type": "stream",
     "text": [
      "Collecting crewai_tools\n",
      "  Downloading crewai_tools-0.2.2-py3-none-any.whl.metadata (4.5 kB)\n",
      "Collecting beautifulsoup4<5.0.0,>=4.12.3 (from crewai_tools)\n",
      "  Using cached beautifulsoup4-4.12.3-py3-none-any.whl.metadata (3.8 kB)\n",
      "Requirement already satisfied: chromadb<0.5.0,>=0.4.22 in /opt/conda/lib/python3.10/site-packages (from crewai_tools) (0.4.22)\n",
      "Collecting embedchain<0.2.0,>=0.1.85 (from embedchain[github,youtube]<0.2.0,>=0.1.85->crewai_tools)\n",
      "  Downloading embedchain-0.1.103-py3-none-any.whl.metadata (10 kB)\n",
      "Collecting lancedb<0.6.0,>=0.5.4 (from crewai_tools)\n",
      "  Using cached lancedb-0.5.7-py3-none-any.whl.metadata (17 kB)\n",
      "Requirement already satisfied: langchain<0.2.0,>=0.1.4 in /opt/conda/lib/python3.10/site-packages (from crewai_tools) (0.1.13)\n",
      "Requirement already satisfied: openai<2.0.0,>=1.12.0 in /opt/conda/lib/python3.10/site-packages (from crewai_tools) (1.13.3)\n",
      "Collecting pydantic<3.0.0,>=2.6.1 (from crewai_tools)\n",
      "  Downloading pydantic-2.7.1-py3-none-any.whl.metadata (107 kB)\n",
      "\u001b[2K     \u001b[90m━━━━━━━━━━━━━━━━━━━━━━━━━━━━━━━━━━━━━━━\u001b[0m \u001b[32m107.3/107.3 kB\u001b[0m \u001b[31m1.4 MB/s\u001b[0m eta \u001b[36m0:00:00\u001b[0ma \u001b[36m0:00:01\u001b[0m\n",
      "\u001b[?25hCollecting pyright<2.0.0,>=1.1.350 (from crewai_tools)\n",
      "  Downloading pyright-1.1.361-py3-none-any.whl.metadata (6.2 kB)\n",
      "Collecting pytest<9.0.0,>=8.0.0 (from crewai_tools)\n",
      "  Downloading pytest-8.2.0-py3-none-any.whl.metadata (7.5 kB)\n",
      "Requirement already satisfied: pytube<16.0.0,>=15.0.0 in /opt/conda/lib/python3.10/site-packages (from crewai_tools) (15.0.0)\n",
      "Requirement already satisfied: requests<3.0.0,>=2.31.0 in /opt/conda/lib/python3.10/site-packages (from crewai_tools) (2.31.0)\n",
      "Collecting selenium<5.0.0,>=4.18.1 (from crewai_tools)\n",
      "  Downloading selenium-4.20.0-py3-none-any.whl.metadata (6.9 kB)\n",
      "Requirement already satisfied: soupsieve>1.2 in /opt/conda/lib/python3.10/site-packages (from beautifulsoup4<5.0.0,>=4.12.3->crewai_tools) (2.5)\n",
      "Requirement already satisfied: build>=1.0.3 in /opt/conda/lib/python3.10/site-packages (from chromadb<0.5.0,>=0.4.22->crewai_tools) (1.0.3)\n",
      "Requirement already satisfied: chroma-hnswlib==0.7.3 in /opt/conda/lib/python3.10/site-packages (from chromadb<0.5.0,>=0.4.22->crewai_tools) (0.7.3)\n",
      "Requirement already satisfied: fastapi>=0.95.2 in /opt/conda/lib/python3.10/site-packages (from chromadb<0.5.0,>=0.4.22->crewai_tools) (0.104.1)\n",
      "Requirement already satisfied: uvicorn>=0.18.3 in /opt/conda/lib/python3.10/site-packages (from uvicorn[standard]>=0.18.3->chromadb<0.5.0,>=0.4.22->crewai_tools) (0.24.0.post1)\n",
      "Requirement already satisfied: numpy>=1.22.5 in /opt/conda/lib/python3.10/site-packages (from chromadb<0.5.0,>=0.4.22->crewai_tools) (1.26.4)\n",
      "Requirement already satisfied: posthog>=2.4.0 in /opt/conda/lib/python3.10/site-packages (from chromadb<0.5.0,>=0.4.22->crewai_tools) (3.4.2)\n",
      "Requirement already satisfied: typing-extensions>=4.5.0 in /opt/conda/lib/python3.10/site-packages (from chromadb<0.5.0,>=0.4.22->crewai_tools) (4.8.0)\n",
      "Requirement already satisfied: pulsar-client>=3.1.0 in /opt/conda/lib/python3.10/site-packages (from chromadb<0.5.0,>=0.4.22->crewai_tools) (3.4.0)\n",
      "Requirement already satisfied: onnxruntime>=1.14.1 in /opt/conda/lib/python3.10/site-packages (from chromadb<0.5.0,>=0.4.22->crewai_tools) (1.15.1)\n",
      "Requirement already satisfied: opentelemetry-api>=1.2.0 in /opt/conda/lib/python3.10/site-packages (from chromadb<0.5.0,>=0.4.22->crewai_tools) (1.23.0)\n",
      "Requirement already satisfied: opentelemetry-exporter-otlp-proto-grpc>=1.2.0 in /opt/conda/lib/python3.10/site-packages (from chromadb<0.5.0,>=0.4.22->crewai_tools) (1.21.0)\n",
      "Requirement already satisfied: opentelemetry-instrumentation-fastapi>=0.41b0 in /opt/conda/lib/python3.10/site-packages (from chromadb<0.5.0,>=0.4.22->crewai_tools) (0.42b0)\n",
      "Requirement already satisfied: opentelemetry-sdk>=1.2.0 in /opt/conda/lib/python3.10/site-packages (from chromadb<0.5.0,>=0.4.22->crewai_tools) (1.23.0)\n",
      "Requirement already satisfied: tokenizers>=0.13.2 in /opt/conda/lib/python3.10/site-packages (from chromadb<0.5.0,>=0.4.22->crewai_tools) (0.15.2)\n",
      "Requirement already satisfied: pypika>=0.48.9 in /opt/conda/lib/python3.10/site-packages (from chromadb<0.5.0,>=0.4.22->crewai_tools) (0.48.9)\n",
      "Requirement already satisfied: tqdm>=4.65.0 in /home/jupyter/.local/lib/python3.10/site-packages (from chromadb<0.5.0,>=0.4.22->crewai_tools) (4.66.2)\n",
      "Requirement already satisfied: overrides>=7.3.1 in /opt/conda/lib/python3.10/site-packages (from chromadb<0.5.0,>=0.4.22->crewai_tools) (7.4.0)\n",
      "Requirement already satisfied: importlib-resources in /opt/conda/lib/python3.10/site-packages (from chromadb<0.5.0,>=0.4.22->crewai_tools) (6.1.1)\n",
      "Requirement already satisfied: grpcio>=1.58.0 in /opt/conda/lib/python3.10/site-packages (from chromadb<0.5.0,>=0.4.22->crewai_tools) (1.62.1)\n",
      "Requirement already satisfied: bcrypt>=4.0.1 in /opt/conda/lib/python3.10/site-packages (from chromadb<0.5.0,>=0.4.22->crewai_tools) (4.1.2)\n",
      "Requirement already satisfied: typer>=0.9.0 in /opt/conda/lib/python3.10/site-packages (from chromadb<0.5.0,>=0.4.22->crewai_tools) (0.9.0)\n",
      "Requirement already satisfied: kubernetes>=28.1.0 in /opt/conda/lib/python3.10/site-packages (from chromadb<0.5.0,>=0.4.22->crewai_tools) (29.0.0)\n",
      "Requirement already satisfied: tenacity>=8.2.3 in /opt/conda/lib/python3.10/site-packages (from chromadb<0.5.0,>=0.4.22->crewai_tools) (8.2.3)\n",
      "Requirement already satisfied: PyYAML>=6.0.0 in /opt/conda/lib/python3.10/site-packages (from chromadb<0.5.0,>=0.4.22->crewai_tools) (6.0.1)\n",
      "Requirement already satisfied: mmh3>=4.0.1 in /opt/conda/lib/python3.10/site-packages (from chromadb<0.5.0,>=0.4.22->crewai_tools) (4.1.0)\n",
      "Collecting alembic<2.0.0,>=1.13.1 (from embedchain<0.2.0,>=0.1.85->embedchain[github,youtube]<0.2.0,>=0.1.85->crewai_tools)\n",
      "  Using cached alembic-1.13.1-py3-none-any.whl.metadata (7.4 kB)\n",
      "INFO: pip is looking at multiple versions of embedchain to determine which version is compatible with other requirements. This could take a while.\n",
      "Collecting embedchain<0.2.0,>=0.1.85 (from embedchain[github,youtube]<0.2.0,>=0.1.85->crewai_tools)\n",
      "  Using cached embedchain-0.1.102-py3-none-any.whl.metadata (10 kB)\n",
      "Requirement already satisfied: google-cloud-aiplatform<2.0.0,>=1.26.1 in /opt/conda/lib/python3.10/site-packages (from embedchain<0.2.0,>=0.1.85->embedchain[github,youtube]<0.2.0,>=0.1.85->crewai_tools) (1.42.1)\n",
      "Collecting gptcache<0.2.0,>=0.1.43 (from embedchain<0.2.0,>=0.1.85->embedchain[github,youtube]<0.2.0,>=0.1.85->crewai_tools)\n",
      "  Using cached gptcache-0.1.43-py3-none-any.whl.metadata (24 kB)\n",
      "Requirement already satisfied: langchain-openai<0.0.6,>=0.0.5 in /opt/conda/lib/python3.10/site-packages (from embedchain<0.2.0,>=0.1.85->embedchain[github,youtube]<0.2.0,>=0.1.85->crewai_tools) (0.0.5)\n",
      "Collecting pypdf<4.0.0,>=3.11.0 (from embedchain<0.2.0,>=0.1.85->embedchain[github,youtube]<0.2.0,>=0.1.85->crewai_tools)\n",
      "  Using cached pypdf-3.17.4-py3-none-any.whl.metadata (7.5 kB)\n",
      "Collecting pysbd<0.4.0,>=0.3.4 (from embedchain<0.2.0,>=0.1.85->embedchain[github,youtube]<0.2.0,>=0.1.85->crewai_tools)\n",
      "  Using cached pysbd-0.3.4-py3-none-any.whl.metadata (6.1 kB)\n",
      "Requirement already satisfied: python-dotenv<2.0.0,>=1.0.0 in /opt/conda/lib/python3.10/site-packages (from embedchain<0.2.0,>=0.1.85->embedchain[github,youtube]<0.2.0,>=0.1.85->crewai_tools) (1.0.0)\n",
      "Requirement already satisfied: rich<14.0.0,>=13.7.0 in /opt/conda/lib/python3.10/site-packages (from embedchain<0.2.0,>=0.1.85->embedchain[github,youtube]<0.2.0,>=0.1.85->crewai_tools) (13.7.1)\n",
      "Collecting schema<0.8.0,>=0.7.5 (from embedchain<0.2.0,>=0.1.85->embedchain[github,youtube]<0.2.0,>=0.1.85->crewai_tools)\n",
      "  Using cached schema-0.7.5-py2.py3-none-any.whl.metadata (34 kB)\n",
      "Collecting sqlalchemy<3.0.0,>=2.0.27 (from embedchain<0.2.0,>=0.1.85->embedchain[github,youtube]<0.2.0,>=0.1.85->crewai_tools)\n",
      "  Using cached SQLAlchemy-2.0.29-cp310-cp310-manylinux_2_17_x86_64.manylinux2014_x86_64.whl.metadata (9.6 kB)\n",
      "Requirement already satisfied: tiktoken<0.6.0,>=0.5.2 in /opt/conda/lib/python3.10/site-packages (from embedchain<0.2.0,>=0.1.85->embedchain[github,youtube]<0.2.0,>=0.1.85->crewai_tools) (0.5.2)\n",
      "INFO: pip is looking at multiple versions of embedchain[github,youtube] to determine which version is compatible with other requirements. This could take a while.\n",
      "Collecting PyGithub<2.0.0,>=1.59.1 (from embedchain[github,youtube]<0.2.0,>=0.1.85->crewai_tools)\n",
      "  Using cached PyGithub-1.59.1-py3-none-any.whl.metadata (2.0 kB)\n",
      "Requirement already satisfied: gitpython<4.0.0,>=3.1.38 in /opt/conda/lib/python3.10/site-packages (from embedchain[github,youtube]<0.2.0,>=0.1.85->crewai_tools) (3.1.40)\n",
      "Collecting youtube-transcript-api<0.7.0,>=0.6.1 (from embedchain[github,youtube]<0.2.0,>=0.1.85->crewai_tools)\n",
      "  Using cached youtube_transcript_api-0.6.2-py3-none-any.whl.metadata (15 kB)\n",
      "Collecting yt_dlp<2024.0.0,>=2023.11.14 (from embedchain[github,youtube]<0.2.0,>=0.1.85->crewai_tools)\n",
      "  Using cached yt_dlp-2023.12.30-py2.py3-none-any.whl.metadata (160 kB)\n",
      "Requirement already satisfied: deprecation in /opt/conda/lib/python3.10/site-packages (from lancedb<0.6.0,>=0.5.4->crewai_tools) (2.1.0)\n",
      "Collecting pylance==0.9.18 (from lancedb<0.6.0,>=0.5.4->crewai_tools)\n",
      "  Using cached pylance-0.9.18-cp38-abi3-manylinux_2_17_x86_64.manylinux2014_x86_64.whl.metadata (7.2 kB)\n",
      "Requirement already satisfied: ratelimiter~=1.0 in /opt/conda/lib/python3.10/site-packages (from lancedb<0.6.0,>=0.5.4->crewai_tools) (1.2.0.post0)\n",
      "Requirement already satisfied: retry>=0.9.2 in /opt/conda/lib/python3.10/site-packages (from lancedb<0.6.0,>=0.5.4->crewai_tools) (0.9.2)\n",
      "Requirement already satisfied: attrs>=21.3.0 in /opt/conda/lib/python3.10/site-packages (from lancedb<0.6.0,>=0.5.4->crewai_tools) (23.1.0)\n",
      "Requirement already satisfied: semver>=3.0 in /opt/conda/lib/python3.10/site-packages (from lancedb<0.6.0,>=0.5.4->crewai_tools) (3.0.2)\n",
      "Requirement already satisfied: cachetools in /opt/conda/lib/python3.10/site-packages (from lancedb<0.6.0,>=0.5.4->crewai_tools) (5.3.3)\n",
      "Requirement already satisfied: click>=8.1.7 in /opt/conda/lib/python3.10/site-packages (from lancedb<0.6.0,>=0.5.4->crewai_tools) (8.1.7)\n",
      "Requirement already satisfied: pyarrow>=12 in /opt/conda/lib/python3.10/site-packages (from pylance==0.9.18->lancedb<0.6.0,>=0.5.4->crewai_tools) (15.0.0)\n",
      "Requirement already satisfied: aiohttp<4.0.0,>=3.8.3 in /opt/conda/lib/python3.10/site-packages (from langchain<0.2.0,>=0.1.4->crewai_tools) (3.9.3)\n",
      "Requirement already satisfied: async-timeout<5.0.0,>=4.0.0 in /opt/conda/lib/python3.10/site-packages (from langchain<0.2.0,>=0.1.4->crewai_tools) (4.0.3)\n",
      "Requirement already satisfied: dataclasses-json<0.7,>=0.5.7 in /opt/conda/lib/python3.10/site-packages (from langchain<0.2.0,>=0.1.4->crewai_tools) (0.6.1)\n",
      "Requirement already satisfied: jsonpatch<2.0,>=1.33 in /opt/conda/lib/python3.10/site-packages (from langchain<0.2.0,>=0.1.4->crewai_tools) (1.33)\n",
      "Requirement already satisfied: langchain-community<0.1,>=0.0.29 in /opt/conda/lib/python3.10/site-packages (from langchain<0.2.0,>=0.1.4->crewai_tools) (0.0.29)\n",
      "Requirement already satisfied: langchain-core<0.2.0,>=0.1.33 in /opt/conda/lib/python3.10/site-packages (from langchain<0.2.0,>=0.1.4->crewai_tools) (0.1.33)\n",
      "Requirement already satisfied: langchain-text-splitters<0.1,>=0.0.1 in /opt/conda/lib/python3.10/site-packages (from langchain<0.2.0,>=0.1.4->crewai_tools) (0.0.1)\n",
      "Requirement already satisfied: langsmith<0.2.0,>=0.1.17 in /opt/conda/lib/python3.10/site-packages (from langchain<0.2.0,>=0.1.4->crewai_tools) (0.1.31)\n",
      "Requirement already satisfied: anyio<5,>=3.5.0 in /opt/conda/lib/python3.10/site-packages (from openai<2.0.0,>=1.12.0->crewai_tools) (3.7.1)\n",
      "Requirement already satisfied: distro<2,>=1.7.0 in /opt/conda/lib/python3.10/site-packages (from openai<2.0.0,>=1.12.0->crewai_tools) (1.9.0)\n",
      "Requirement already satisfied: httpx<1,>=0.23.0 in /opt/conda/lib/python3.10/site-packages (from openai<2.0.0,>=1.12.0->crewai_tools) (0.27.0)\n",
      "Requirement already satisfied: sniffio in /opt/conda/lib/python3.10/site-packages (from openai<2.0.0,>=1.12.0->crewai_tools) (1.3.0)\n",
      "Requirement already satisfied: annotated-types>=0.4.0 in /opt/conda/lib/python3.10/site-packages (from pydantic<3.0.0,>=2.6.1->crewai_tools) (0.6.0)\n",
      "Collecting pydantic-core==2.18.2 (from pydantic<3.0.0,>=2.6.1->crewai_tools)\n",
      "  Downloading pydantic_core-2.18.2-cp310-cp310-manylinux_2_17_x86_64.manylinux2014_x86_64.whl.metadata (6.5 kB)\n",
      "Collecting nodeenv>=1.6.0 (from pyright<2.0.0,>=1.1.350->crewai_tools)\n",
      "  Using cached nodeenv-1.8.0-py2.py3-none-any.whl.metadata (21 kB)\n",
      "Requirement already satisfied: iniconfig in /opt/conda/lib/python3.10/site-packages (from pytest<9.0.0,>=8.0.0->crewai_tools) (2.0.0)\n",
      "Requirement already satisfied: packaging in /opt/conda/lib/python3.10/site-packages (from pytest<9.0.0,>=8.0.0->crewai_tools) (23.2)\n",
      "Collecting pluggy<2.0,>=1.5 (from pytest<9.0.0,>=8.0.0->crewai_tools)\n",
      "  Downloading pluggy-1.5.0-py3-none-any.whl.metadata (4.8 kB)\n",
      "Requirement already satisfied: exceptiongroup>=1.0.0rc8 in /opt/conda/lib/python3.10/site-packages (from pytest<9.0.0,>=8.0.0->crewai_tools) (1.1.3)\n",
      "Requirement already satisfied: tomli>=1 in /opt/conda/lib/python3.10/site-packages (from pytest<9.0.0,>=8.0.0->crewai_tools) (2.0.1)\n",
      "Requirement already satisfied: charset-normalizer<4,>=2 in /opt/conda/lib/python3.10/site-packages (from requests<3.0.0,>=2.31.0->crewai_tools) (3.3.2)\n",
      "Requirement already satisfied: idna<4,>=2.5 in /opt/conda/lib/python3.10/site-packages (from requests<3.0.0,>=2.31.0->crewai_tools) (3.6)\n",
      "Requirement already satisfied: urllib3<3,>=1.21.1 in /opt/conda/lib/python3.10/site-packages (from requests<3.0.0,>=2.31.0->crewai_tools) (2.2.1)\n",
      "Requirement already satisfied: certifi>=2017.4.17 in /opt/conda/lib/python3.10/site-packages (from requests<3.0.0,>=2.31.0->crewai_tools) (2024.2.2)\n",
      "Collecting trio~=0.17 (from selenium<5.0.0,>=4.18.1->crewai_tools)\n",
      "  Using cached trio-0.25.0-py3-none-any.whl.metadata (8.7 kB)\n",
      "Collecting trio-websocket~=0.9 (from selenium<5.0.0,>=4.18.1->crewai_tools)\n",
      "  Using cached trio_websocket-0.11.1-py3-none-any.whl.metadata (4.7 kB)\n",
      "Collecting typing-extensions>=4.5.0 (from chromadb<0.5.0,>=0.4.22->crewai_tools)\n",
      "  Downloading typing_extensions-4.11.0-py3-none-any.whl.metadata (3.0 kB)\n",
      "Requirement already satisfied: aiosignal>=1.1.2 in /opt/conda/lib/python3.10/site-packages (from aiohttp<4.0.0,>=3.8.3->langchain<0.2.0,>=0.1.4->crewai_tools) (1.3.1)\n",
      "Requirement already satisfied: frozenlist>=1.1.1 in /opt/conda/lib/python3.10/site-packages (from aiohttp<4.0.0,>=3.8.3->langchain<0.2.0,>=0.1.4->crewai_tools) (1.4.0)\n",
      "Requirement already satisfied: multidict<7.0,>=4.5 in /opt/conda/lib/python3.10/site-packages (from aiohttp<4.0.0,>=3.8.3->langchain<0.2.0,>=0.1.4->crewai_tools) (6.0.4)\n",
      "Requirement already satisfied: yarl<2.0,>=1.0 in /opt/conda/lib/python3.10/site-packages (from aiohttp<4.0.0,>=3.8.3->langchain<0.2.0,>=0.1.4->crewai_tools) (1.9.2)\n",
      "Collecting Mako (from alembic<2.0.0,>=1.13.1->embedchain<0.2.0,>=0.1.85->embedchain[github,youtube]<0.2.0,>=0.1.85->crewai_tools)\n",
      "  Using cached Mako-1.3.3-py3-none-any.whl.metadata (2.9 kB)\n",
      "Requirement already satisfied: pyproject_hooks in /opt/conda/lib/python3.10/site-packages (from build>=1.0.3->chromadb<0.5.0,>=0.4.22->crewai_tools) (1.0.0)\n",
      "Requirement already satisfied: marshmallow<4.0.0,>=3.18.0 in /opt/conda/lib/python3.10/site-packages (from dataclasses-json<0.7,>=0.5.7->langchain<0.2.0,>=0.1.4->crewai_tools) (3.20.1)\n",
      "Requirement already satisfied: typing-inspect<1,>=0.4.0 in /opt/conda/lib/python3.10/site-packages (from dataclasses-json<0.7,>=0.5.7->langchain<0.2.0,>=0.1.4->crewai_tools) (0.9.0)\n",
      "Requirement already satisfied: starlette<0.28.0,>=0.27.0 in /opt/conda/lib/python3.10/site-packages (from fastapi>=0.95.2->chromadb<0.5.0,>=0.4.22->crewai_tools) (0.27.0)\n",
      "Requirement already satisfied: gitdb<5,>=4.0.1 in /opt/conda/lib/python3.10/site-packages (from gitpython<4.0.0,>=3.1.38->embedchain[github,youtube]<0.2.0,>=0.1.85->crewai_tools) (4.0.11)\n",
      "\u001b[31mERROR: Could not install packages due to an OSError: [Errno 2] No such file or directory: '/opt/conda/lib/python3.10/site-packages/google_cloud_aiplatform-1.42.1.dist-info/METADATA'\n",
      "\u001b[0m\u001b[31m\n",
      "\u001b[0m"
     ]
    }
   ],
   "source": [
    "!pip install crewai_tools"
   ]
  },
  {
   "cell_type": "code",
   "execution_count": 13,
   "id": "a0b9afd9-b4ca-4564-ac27-7681821670cf",
   "metadata": {
    "tags": []
   },
   "outputs": [
    {
     "ename": "ModuleNotFoundError",
     "evalue": "No module named 'crewai_tools'",
     "output_type": "error",
     "traceback": [
      "\u001b[0;31m---------------------------------------------------------------------------\u001b[0m",
      "\u001b[0;31mModuleNotFoundError\u001b[0m                       Traceback (most recent call last)",
      "Cell \u001b[0;32mIn[13], line 2\u001b[0m\n\u001b[1;32m      1\u001b[0m \u001b[38;5;28;01mfrom\u001b[39;00m \u001b[38;5;21;01mcrewai\u001b[39;00m \u001b[38;5;28;01mimport\u001b[39;00m Agent, Task, Crew, Process\n\u001b[0;32m----> 2\u001b[0m \u001b[38;5;28;01mfrom\u001b[39;00m \u001b[38;5;21;01mcrewai_tools\u001b[39;00m \u001b[38;5;28;01mimport\u001b[39;00m tool\n\u001b[1;32m      3\u001b[0m \u001b[38;5;28;01mfrom\u001b[39;00m \u001b[38;5;21;01mcrewai_tools\u001b[39;00m\u001b[38;5;21;01m.\u001b[39;00m\u001b[38;5;21;01mtools\u001b[39;00m \u001b[38;5;28;01mimport\u001b[39;00m FileReadTool\n\u001b[1;32m      4\u001b[0m \u001b[38;5;28;01mimport\u001b[39;00m \u001b[38;5;21;01mos\u001b[39;00m\u001b[38;5;241m,\u001b[39m \u001b[38;5;21;01mrequests\u001b[39;00m\u001b[38;5;241m,\u001b[39m \u001b[38;5;21;01mre\u001b[39;00m\u001b[38;5;241m,\u001b[39m \u001b[38;5;21;01mmdpdf\u001b[39;00m\u001b[38;5;241m,\u001b[39m \u001b[38;5;21;01msubprocess\u001b[39;00m\n",
      "\u001b[0;31mModuleNotFoundError\u001b[0m: No module named 'crewai_tools'"
     ]
    }
   ],
   "source": [
    "from crewai import Agent, Task, Crew, Process\n",
    "from crewai_tools import tool\n",
    "from crewai_tools.tools import FileReadTool\n",
    "import os, requests, re, mdpdf, subprocess\n",
    "\n",
    "from langchain_community.vectorstores import Chroma\n",
    "from langchain_community.tools import DuckDuckGoSearchRun\n"
   ]
  },
  {
   "cell_type": "code",
   "execution_count": null,
   "id": "a724cab8-b47b-45d5-a2c0-b8c85a48f6fe",
   "metadata": {},
   "outputs": [],
   "source": []
  }
 ],
 "metadata": {
  "environment": {
   "kernel": "conda-root-py",
   "name": "workbench-notebooks.m113",
   "type": "gcloud",
   "uri": "gcr.io/deeplearning-platform-release/workbench-notebooks:m113"
  },
  "kernelspec": {
   "display_name": "Python 3 (ipykernel) (Local)",
   "language": "python",
   "name": "conda-root-py"
  },
  "language_info": {
   "codemirror_mode": {
    "name": "ipython",
    "version": 3
   },
   "file_extension": ".py",
   "mimetype": "text/x-python",
   "name": "python",
   "nbconvert_exporter": "python",
   "pygments_lexer": "ipython3",
   "version": "3.10.13"
  }
 },
 "nbformat": 4,
 "nbformat_minor": 5
}
